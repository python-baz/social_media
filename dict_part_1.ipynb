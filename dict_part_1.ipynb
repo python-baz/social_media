{
 "cells": [
  {
   "cell_type": "code",
   "execution_count": 1,
   "id": "b08094d6",
   "metadata": {},
   "outputs": [
    {
     "name": "stdout",
     "output_type": "stream",
     "text": [
      "key   : amir\n",
      "value : 20\n",
      "key   : sara\n",
      "value : 20\n",
      "key   : ali\n",
      "value : 19\n"
     ]
    }
   ],
   "source": [
    "dct = {\n",
    "    \"amir\" : 20,\n",
    "    \"sara\" : 20,\n",
    "    \"ali\"  : 19,\n",
    "}\n",
    "\n",
    "# کلید و مقدار هر عنصر در دیکشنری را بر میگرداند items()تابع \n",
    "for k, v in dct.items():\n",
    "    print(\"key   :\", k)\n",
    "    print(\"value :\", v)"
   ]
  },
  {
   "cell_type": "code",
   "execution_count": 2,
   "id": "fc4b5a26-4363-4a92-886b-18f792108939",
   "metadata": {},
   "outputs": [
    {
     "name": "stdout",
     "output_type": "stream",
     "text": [
      "{'amir': None, 'sara': None, 'ali': None}\n"
     ]
    }
   ],
   "source": [
    "lst = ['amir', 'sara', 'ali']\n",
    "\n",
    "# تبدیل عناصر لیست به کلیدهای دیکشنری\n",
    "# fromkeys() تابع\n",
    "print(dict.fromkeys(lst))"
   ]
  },
  {
   "cell_type": "code",
   "execution_count": 3,
   "id": "f191d1df-447a-45e5-bc5a-f6f204ba38f6",
   "metadata": {},
   "outputs": [
    {
     "data": {
      "text/plain": [
       "dict_keys(['amir', 'sara', 'ali'])"
      ]
     },
     "execution_count": 3,
     "metadata": {},
     "output_type": "execute_result"
    }
   ],
   "source": [
    "dct = {\n",
    "    \"amir\" : 20,\n",
    "    \"sara\" : 20,\n",
    "    \"ali\"  : 19,\n",
    "}\n",
    "\n",
    "# برگرداندن کلیدهای یک دیکشنری\n",
    "# keys() تابع\n",
    "dct.keys()"
   ]
  },
  {
   "cell_type": "code",
   "execution_count": 4,
   "id": "67c7b427-13e8-4978-9732-979859b3c048",
   "metadata": {},
   "outputs": [
    {
     "data": {
      "text/plain": [
       "dict_values([20, 20, 19])"
      ]
     },
     "execution_count": 4,
     "metadata": {},
     "output_type": "execute_result"
    }
   ],
   "source": [
    "dct = {\n",
    "    \"amir\" : 20,\n",
    "    \"sara\" : 20,\n",
    "    \"ali\"  : 19,\n",
    "}\n",
    "\n",
    "# برگرداندن مقادیر یک دیکشنری\n",
    "# keys() تابع\n",
    "dct.values()"
   ]
  },
  {
   "cell_type": "code",
   "execution_count": 5,
   "id": "eb0b90ee-fd97-492a-afef-733f000ff439",
   "metadata": {},
   "outputs": [
    {
     "name": "stdout",
     "output_type": "stream",
     "text": [
      "20\n",
      "این کلید در دیکشنری وجود ندارد\n"
     ]
    }
   ],
   "source": [
    "dct = {\n",
    "    \"amir\" : 20,\n",
    "    \"sara\" : 20,\n",
    "    \"ali\"  : 19,\n",
    "}\n",
    "\n",
    "# برگرداند مقدار یک عنصر در دیکشنری براساس کلید آن\n",
    "print(dct.get('amir'))\n",
    "\n",
    "# برای تابع میتوان مقدار پایه تعریف کرد \n",
    "# در صورتی که کلید در دیکشنری وجود نداشته باشد مقدار پایه برگردانده میشود\n",
    "print(dct.get(\"jack\", \"این کلید در دیکشنری وجود ندارد\"))"
   ]
  },
  {
   "cell_type": "code",
   "execution_count": null,
   "id": "7596091c-f776-470a-b0f0-ae6447c15c14",
   "metadata": {},
   "outputs": [],
   "source": []
  }
 ],
 "metadata": {
  "kernelspec": {
   "display_name": "Python 3 (ipykernel)",
   "language": "python",
   "name": "python3"
  },
  "language_info": {
   "codemirror_mode": {
    "name": "ipython",
    "version": 3
   },
   "file_extension": ".py",
   "mimetype": "text/x-python",
   "name": "python",
   "nbconvert_exporter": "python",
   "pygments_lexer": "ipython3",
   "version": "3.8.18"
  }
 },
 "nbformat": 4,
 "nbformat_minor": 5
}
