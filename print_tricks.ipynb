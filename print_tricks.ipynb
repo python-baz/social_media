{
 "cells": [
  {
   "cell_type": "code",
   "execution_count": 12,
   "metadata": {},
   "outputs": [
    {
     "name": "stdout",
     "output_type": "stream",
     "text": [
      "Month of Date :  Jan\n",
      "Month of Date :  January\n",
      "Day of Week :  Monday\n",
      "Time : 02:30:50 PM\n",
      "Time : 14:30:50\n",
      "Date :  01/01/2024\n",
      "Date :  01/01/24\n"
     ]
    }
   ],
   "source": [
    "from datetime import datetime\n",
    "\n",
    "dt = datetime(2024, 1, 1, 14, 30, 50)\n",
    "\n",
    "print(f\"Month of Date : {dt : %b}\")\n",
    "\n",
    "print(f\"Month of Date : {dt : %B}\")\n",
    "\n",
    "print(f\"Day of Week : {dt : %A}\")\n",
    "\n",
    "print(f\"Time :{dt : %I:%M:%S %p}\")\n",
    "\n",
    "print(f\"Time :{dt : %H:%M:%S}\")\n",
    "\n",
    "print(f\"Date : {dt : %m/%d/%Y}\")\n",
    "\n",
    "print(f\"Date : {dt : %m/%d/%y}\")"
   ]
  },
  {
   "cell_type": "code",
   "execution_count": 16,
   "metadata": {},
   "outputs": [
    {
     "name": "stdout",
     "output_type": "stream",
     "text": [
      "right : ****python\n",
      "center : **python**\n",
      "left : python****\n"
     ]
    }
   ],
   "source": [
    "s = \"python\"\n",
    "\n",
    "print(f\"right : {s:*>10}\")\n",
    "print(f\"center : {s:*^10}\")\n",
    "\n",
    "print(f\"left : {s:*<10}\")"
   ]
  },
  {
   "cell_type": "code",
   "execution_count": 20,
   "metadata": {},
   "outputs": [
    {
     "name": "stdout",
     "output_type": "stream",
     "text": [
      "num : 3.142\n",
      "num : 3.142\n",
      "3.142 , 3.1415927\n"
     ]
    }
   ],
   "source": [
    "num = 3.141592653589\n",
    "\n",
    "print(\"num : %.3f\" % num)\n",
    "\n",
    "print(f\"num : {num:.3f}\")\n",
    "\n",
    "print(\"{n:.3f} , {n:.7f}\".format(n = num))"
   ]
  },
  {
   "cell_type": "code",
   "execution_count": 21,
   "metadata": {},
   "outputs": [
    {
     "name": "stdout",
     "output_type": "stream",
     "text": [
      "v1 and v3\n"
     ]
    }
   ],
   "source": [
    "dct = {'k1' : 'v1', 'k2' : 'v2', 'k3' : 'v3'}\n",
    "\n",
    "print(\"{d[k1]} and {d[k3]}\".format(d = dct))"
   ]
  },
  {
   "cell_type": "code",
   "execution_count": null,
   "metadata": {},
   "outputs": [],
   "source": []
  }
 ],
 "metadata": {
  "kernelspec": {
   "display_name": "Python 3 (ipykernel)",
   "language": "python",
   "name": "python3"
  },
  "language_info": {
   "codemirror_mode": {
    "name": "ipython",
    "version": 3
   },
   "file_extension": ".py",
   "mimetype": "text/x-python",
   "name": "python",
   "nbconvert_exporter": "python",
   "pygments_lexer": "ipython3",
   "version": "3.11.5"
  }
 },
 "nbformat": 4,
 "nbformat_minor": 4
}
