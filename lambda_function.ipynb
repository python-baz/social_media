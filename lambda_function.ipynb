{
 "cells": [
  {
   "cell_type": "code",
   "execution_count": 1,
   "id": "41f48734",
   "metadata": {},
   "outputs": [
    {
     "name": "stdout",
     "output_type": "stream",
     "text": [
      "1 + 2 + 1 =  4\n",
      "2 * 3 =  6\n"
     ]
    }
   ],
   "source": [
    "# lambda function \n",
    "fun_sum = lambda x, y, z: x + y + z\n",
    "\n",
    "# تابع یک خطی که سه عدد را ورودی میگیرد\n",
    "print(\"1 + 2 + 1 = \",fun_sum(1, 2, 1))\n",
    "\n",
    "# lambda function \n",
    "fun_me = lambda x, y : x*y\n",
    "\n",
    "# تابع یک خطی که دو عدد را ورودی میگیرد\n",
    "print(\"2 * 3 = \",fun_me(2, 3))"
   ]
  },
  {
   "cell_type": "code",
   "execution_count": 2,
   "id": "c9440f63",
   "metadata": {},
   "outputs": [
    {
     "data": {
      "text/plain": [
       "[1, 2]"
      ]
     },
     "execution_count": 2,
     "metadata": {},
     "output_type": "execute_result"
    }
   ],
   "source": [
    "lst = [1, -1, 2, -2]\n",
    "\n",
    "# lambda function کاربرد  \n",
    "# filter در تابع\n",
    "\n",
    "# حذف اعداد منفی از لیست \n",
    "list(filter(lambda x: x>0, lst))"
   ]
  },
  {
   "cell_type": "code",
   "execution_count": 3,
   "id": "30ffb8d2",
   "metadata": {},
   "outputs": [
    {
     "data": {
      "text/plain": [
       "[1, 1, 4, 4]"
      ]
     },
     "execution_count": 3,
     "metadata": {},
     "output_type": "execute_result"
    }
   ],
   "source": [
    "lst = [1, -1, 2, -2]\n",
    "\n",
    "# روی تمام عناصر اجرا میشود map تابع به کمک\n",
    "# lambda function کاربرد  \n",
    "# map در تابع\n",
    "\n",
    "# به توان دو رساندن تمام عناصر لیست\n",
    "list(map(lambda x: x**2, lst))"
   ]
  },
  {
   "cell_type": "code",
   "execution_count": 4,
   "id": "c7f3cb72",
   "metadata": {},
   "outputs": [
    {
     "data": {
      "text/plain": [
       "[[-2, -2], [1, -1], [1, 1], [2, 2]]"
      ]
     },
     "execution_count": 4,
     "metadata": {},
     "output_type": "execute_result"
    }
   ],
   "source": [
    "# هدف این است که لیست زیر را براساس\n",
    "# مجموع اعداد داخل لیست به صورت صعودی مرتب کنیم\n",
    "lst = [\n",
    "    [1 , -1], # مجموع 0 است\n",
    "    [1 ,  1], # مجموع 2 است\n",
    "    [2 ,  2], # مجموع 4 است\n",
    "    [-2, -2], # مجموع 4- است\n",
    "]\n",
    "\n",
    "# استفاده میکنیم lambda function از\n",
    "# و مجموع عناصر لیست های داخلی را بدست میاوریم\n",
    "sorted(lst, key=lambda x: x[0]+x[1])"
   ]
  },
  {
   "cell_type": "code",
   "execution_count": null,
   "id": "fe092a3a",
   "metadata": {},
   "outputs": [],
   "source": []
  }
 ],
 "metadata": {
  "kernelspec": {
   "display_name": "Python 3 (ipykernel)",
   "language": "python",
   "name": "python3"
  },
  "language_info": {
   "codemirror_mode": {
    "name": "ipython",
    "version": 3
   },
   "file_extension": ".py",
   "mimetype": "text/x-python",
   "name": "python",
   "nbconvert_exporter": "python",
   "pygments_lexer": "ipython3",
   "version": "3.8.18"
  }
 },
 "nbformat": 4,
 "nbformat_minor": 5
}
