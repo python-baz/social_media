{
 "cells": [
  {
   "cell_type": "code",
   "execution_count": 1,
   "id": "c15845a9-18f9-495e-a94f-1dab7bcda888",
   "metadata": {},
   "outputs": [
    {
     "name": "stdout",
     "output_type": "stream",
     "text": [
      "abcdefghijklmnopqrstuvwxyz\n",
      "ABCDEFGHIJKLMNOPQRSTUVWXYZ\n"
     ]
    }
   ],
   "source": [
    "# بدست آوردن لیست حروف و کاراکترهای خاص و اعداد\n",
    "# string به کمک کتابخانه\n",
    "import string\n",
    "\n",
    "print(string.ascii_lowercase)\n",
    "# 'abcdefghijklmnopqrstuvwxyz'\n",
    "\n",
    "print(string.ascii_uppercase)\n",
    "# 'ABCDEFGHIJKLMNOPQRSTUVWXYZ'"
   ]
  },
  {
   "cell_type": "code",
   "execution_count": 2,
   "id": "97839f1b",
   "metadata": {},
   "outputs": [
    {
     "name": "stdout",
     "output_type": "stream",
     "text": [
      "!\"#$%&'()*+,-./:;<=>?@[\\]^_`{|}~\n",
      "0123456789\n"
     ]
    }
   ],
   "source": [
    "# بدست آوردن لیست حروف و کاراکترهای خاص و اعداد\n",
    "# string به کمک کتابخانه\n",
    "import string\n",
    "\n",
    "print(string.punctuation)\n",
    "#'!\"#$%&\\'()*+,-./:;<=>?@[\\\\]^_`{|}~'\n",
    "\n",
    "print(string.digits)\n",
    "#'0123456789'"
   ]
  },
  {
   "cell_type": "code",
   "execution_count": 3,
   "id": "985ffae3",
   "metadata": {},
   "outputs": [
    {
     "data": {
      "text/plain": [
       "'********python_baz'"
      ]
     },
     "execution_count": 3,
     "metadata": {},
     "output_type": "execute_result"
    }
   ],
   "source": [
    "# حذف کاراکتر خاص از سمت راست\n",
    "in_str = \"********python_baz********\"\n",
    "\n",
    "in_str.rstrip(\"*\")"
   ]
  },
  {
   "cell_type": "code",
   "execution_count": 4,
   "id": "e100e767-ac0e-41eb-8401-bf059ebf46c4",
   "metadata": {},
   "outputs": [
    {
     "data": {
      "text/plain": [
       "'python_baz********'"
      ]
     },
     "execution_count": 4,
     "metadata": {},
     "output_type": "execute_result"
    }
   ],
   "source": [
    "# حذف کاراکتر خاص از سمت چپ\n",
    "in_str = \"********python_baz********\"\n",
    "\n",
    "in_str.lstrip(\"*\")"
   ]
  },
  {
   "cell_type": "code",
   "execution_count": 5,
   "id": "b61d74da-7efe-4516-a791-6daee01582bd",
   "metadata": {},
   "outputs": [
    {
     "data": {
      "text/plain": [
       "'python_baz'"
      ]
     },
     "execution_count": 5,
     "metadata": {},
     "output_type": "execute_result"
    }
   ],
   "source": [
    "# حذف کاراکتر خاص از هر دو سمت\n",
    "in_str = \"********python_baz********\"\n",
    "\n",
    "in_str.strip(\"*\")"
   ]
  },
  {
   "cell_type": "code",
   "execution_count": 6,
   "id": "b74ff34c-8234-4c84-b7f1-1e0aceb58bab",
   "metadata": {},
   "outputs": [
    {
     "data": {
      "text/plain": [
       "'!!!!!!!!python_baz!!!!!!!!'"
      ]
     },
     "execution_count": 6,
     "metadata": {},
     "output_type": "execute_result"
    }
   ],
   "source": [
    "# جایگزین کاراکتر خاص با کاراکتر دیگر\n",
    "in_str = \"********python_baz********\"\n",
    "\n",
    "in_str.replace(\"*\", \"!\")"
   ]
  },
  {
   "cell_type": "code",
   "execution_count": 7,
   "id": "cb9eefe7-5539-49bb-a182-c8dabb7c387f",
   "metadata": {},
   "outputs": [
    {
     "data": {
      "text/plain": [
       "True"
      ]
     },
     "execution_count": 7,
     "metadata": {},
     "output_type": "execute_result"
    }
   ],
   "source": [
    "#بررسی شروع جمله با کلمه داده شده\n",
    "str1 = \"Hi python_baz, How are you?\" \n",
    "str1.startswith(\"Hi\")"
   ]
  },
  {
   "cell_type": "code",
   "execution_count": 8,
   "id": "70c743a3-6787-40f9-ab9f-8884b9a76dba",
   "metadata": {},
   "outputs": [
    {
     "data": {
      "text/plain": [
       "True"
      ]
     },
     "execution_count": 8,
     "metadata": {},
     "output_type": "execute_result"
    }
   ],
   "source": [
    "#بررسی پایان جمله با کلمه داده شده\n",
    "\n",
    "str1 = \"Hi python_baz, Good Night.\"\n",
    "str1.endswith(\"Night.\")"
   ]
  },
  {
   "cell_type": "code",
   "execution_count": 9,
   "id": "3bfb035d-69bd-4c8c-9505-3ea6609e20a3",
   "metadata": {},
   "outputs": [
    {
     "data": {
      "text/plain": [
       "['*python*', '*baz*']"
      ]
     },
     "execution_count": 9,
     "metadata": {},
     "output_type": "execute_result"
    }
   ],
   "source": [
    "# تقسیم جمله برمبنای کاراکتر خاص\n",
    "\n",
    "str1 = \"*python*_*baz*\"\n",
    "str1.split(\"_\")"
   ]
  },
  {
   "cell_type": "code",
   "execution_count": 10,
   "id": "4cf2e3c5-1460-4d62-91f0-a869e8e9a538",
   "metadata": {},
   "outputs": [
    {
     "data": {
      "text/plain": [
       "7"
      ]
     },
     "execution_count": 10,
     "metadata": {},
     "output_type": "execute_result"
    }
   ],
   "source": [
    "# یافتن ایندکس کلمه در جمله مورد بررسی\n",
    "# این بررسی از سمت چپ انجام میگیرد\n",
    "\n",
    "str1 = \"python_baz python_baz\"\n",
    "#idx    01234567\n",
    "\n",
    "str1.index(\"baz\")"
   ]
  },
  {
   "cell_type": "code",
   "execution_count": 11,
   "id": "de2d53f4-5597-4448-87ae-7865936cea67",
   "metadata": {},
   "outputs": [
    {
     "data": {
      "text/plain": [
       "18"
      ]
     },
     "execution_count": 11,
     "metadata": {},
     "output_type": "execute_result"
    }
   ],
   "source": [
    "# یافتن ایندکس کلمه در جمله مورد بررسی\n",
    "# این بررسی از سمت راست انجام میگیرد\n",
    "\n",
    "str1 = \"python_baz python_baz\"\n",
    "# idx   0|||||6||||||||||||\n",
    "# idx   |||3      10     18\n",
    "str1.rindex(\"baz\")"
   ]
  },
  {
   "cell_type": "code",
   "execution_count": 12,
   "id": "a8005664-e2ad-40ad-93b0-043287029b52",
   "metadata": {},
   "outputs": [
    {
     "name": "stdout",
     "output_type": "stream",
     "text": [
      "False\n",
      "True\n"
     ]
    }
   ],
   "source": [
    "# آیا تمام کاراکتر های موجود در کلمه حروف الفبا هستند\n",
    "\n",
    "str1 = \"python_baz\"\n",
    "print(str1.isalpha()) \n",
    "# False\n",
    "\n",
    "str1 = \"pythonbaz\"\n",
    "print(str1.isalpha())\n",
    "# True"
   ]
  },
  {
   "cell_type": "code",
   "execution_count": 13,
   "id": "52d658d5-9da7-4803-be78-3b28842a06dc",
   "metadata": {},
   "outputs": [
    {
     "data": {
      "text/plain": [
       "True"
      ]
     },
     "execution_count": 13,
     "metadata": {},
     "output_type": "execute_result"
    }
   ],
   "source": [
    "# آیا تمام کاراکتر های موجود در کلمه اعداد هستند\n",
    "\"212121\".isnumeric()"
   ]
  },
  {
   "cell_type": "code",
   "execution_count": 14,
   "id": "fa55e8c3-2a76-4bbc-9f97-b99c8ef384a3",
   "metadata": {},
   "outputs": [
    {
     "name": "stdout",
     "output_type": "stream",
     "text": [
      "True\n"
     ]
    }
   ],
   "source": [
    "# آیا تمام کاراکتر های موجود در کلمه اعداد و الفبا هستند \n",
    "print(\"A1a2b3B4\".isalnum())\n",
    "\n",
    "# is-al-num() <-> is  -> is\n",
    "# is-al-num() <-> al  -> alphabet\n",
    "# is-al-num() <-> num -> numeric"
   ]
  },
  {
   "cell_type": "code",
   "execution_count": null,
   "id": "c93f4290",
   "metadata": {},
   "outputs": [],
   "source": []
  }
 ],
 "metadata": {
  "kernelspec": {
   "display_name": "Python 3 (ipykernel)",
   "language": "python",
   "name": "python3"
  },
  "language_info": {
   "codemirror_mode": {
    "name": "ipython",
    "version": 3
   },
   "file_extension": ".py",
   "mimetype": "text/x-python",
   "name": "python",
   "nbconvert_exporter": "python",
   "pygments_lexer": "ipython3",
   "version": "3.8.18"
  }
 },
 "nbformat": 4,
 "nbformat_minor": 5
}
