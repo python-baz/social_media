{
 "cells": [
  {
   "cell_type": "code",
   "execution_count": null,
   "id": "45f60825",
   "metadata": {},
   "outputs": [],
   "source": [
    "from turtle import *\n",
    "import numpy as np\n",
    "\n",
    "speed(1000)\n",
    "bgcolor(\"black\")\n",
    "nums = np.linspace(np.pi/1.3, np.pi/3.8, 200)\n",
    "split_nums = np.split(nums, 20)\n",
    "for num in nums:\n",
    "    r = np.sqrt(0.6)\n",
    "    x = r*np.cos(num)\n",
    "    y = r*np.sin(num)\n",
    "    if any(num in lst\n",
    "           for lst in [split_nums[part]\n",
    "                      for part in [1, 6, 12, 17]]):\n",
    "        for clr, end in zip([\"#4B8540\", \"#BECA86\",\n",
    "                             \"#E32633\", \"black\",\n",
    "                             \"#E32633\"],\n",
    "                            [200, 180, 170, 140, 120]):\n",
    "                goto(-1*(x*end), -1*(y*end))\n",
    "                color(clr)\n",
    "                goto(0, 0)\n",
    "    elif any(num in lst\n",
    "            for lst in [split_nums[part]\n",
    "                        for part in [3, 8, 15]]):\n",
    "                for clr, end in zip([\"#4B8540\", \"#BECA86\",\n",
    "                                     \"#E32633\", \"black\",\n",
    "                                     \"#E32633\"],\n",
    "                                    [200, 180, 170, 100, 80]):\n",
    "                    goto(-1*(x*end), -1*(y*end))\n",
    "                    color(clr)\n",
    "                    goto(0, 0)\n",
    "    else:\n",
    "        for clr, end in zip([\"#4B8540\", \"#BECA86\",\n",
    "                             \"#E32633\"],\n",
    "                            [200, 180, 170]):\n",
    "                goto(-1*(x*end), -1*(y*end))\n",
    "                color(clr)\n",
    "                goto(0, 0)\n",
    "done()"
   ]
  },
  {
   "cell_type": "code",
   "execution_count": null,
   "id": "951e8fb1",
   "metadata": {},
   "outputs": [],
   "source": []
  }
 ],
 "metadata": {
  "kernelspec": {
   "display_name": "Python 3 (ipykernel)",
   "language": "python",
   "name": "python3"
  },
  "language_info": {
   "codemirror_mode": {
    "name": "ipython",
    "version": 3
   },
   "file_extension": ".py",
   "mimetype": "text/x-python",
   "name": "python",
   "nbconvert_exporter": "python",
   "pygments_lexer": "ipython3",
   "version": "3.8.18"
  }
 },
 "nbformat": 4,
 "nbformat_minor": 5
}
